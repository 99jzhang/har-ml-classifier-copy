{
 "cells": [
  {
   "cell_type": "code",
   "execution_count": 1,
   "metadata": {},
   "outputs": [],
   "source": [
    "# Imports\n",
    "import pandas as pd\n",
    "import time \n",
    "import math\n",
    "\n",
    "import torch\n",
    "from torch import nn\n",
    "from torch.utils.data import Dataset, DataLoader\n",
    "\n",
    "from sklearn.model_selection import train_test_split"
   ]
  },
  {
   "cell_type": "code",
   "execution_count": 2,
   "metadata": {},
   "outputs": [],
   "source": [
    "# Constants\n",
    "DATA_PATH = './data/'\n",
    "DATASET_PATH = DATA_PATH + 'uci-data/'\n",
    "MODELS_PATH = DATA_PATH + 'models/raw-models/'\n",
    "FEATURES = ['accX', 'accY', 'accZ', 'gyroX', 'gyroY', 'gyroZ', \"subject\", \"activity\"]\n",
    "\n",
    "BATCH_SIZE = 32\n",
    "SAMPLE_SIZE = BATCH_SIZE * 150\n",
    "EPOCHS = 5"
   ]
  },
  {
   "cell_type": "code",
   "execution_count": 3,
   "metadata": {},
   "outputs": [
    {
     "name": "stderr",
     "output_type": "stream",
     "text": [
      "<>:1: SyntaxWarning: invalid escape sequence '\\s'\n",
      "<>:9: SyntaxWarning: invalid escape sequence '\\s'\n",
      "<>:1: SyntaxWarning: invalid escape sequence '\\s'\n",
      "<>:9: SyntaxWarning: invalid escape sequence '\\s'\n",
      "/var/folders/lt/w0169b7x5ml3psz3nly9vj3m0000gn/T/ipykernel_45196/1212202754.py:1: SyntaxWarning: invalid escape sequence '\\s'\n",
      "  '''\n",
      "/var/folders/lt/w0169b7x5ml3psz3nly9vj3m0000gn/T/ipykernel_45196/1212202754.py:9: SyntaxWarning: invalid escape sequence '\\s'\n",
      "  complete_set = pd.read_csv(DATA_PATH + \"self-calculated/raw-data.txt\", sep='\\s+', header=None)\n"
     ]
    }
   ],
   "source": [
    "'''\n",
    "# Load the data\n",
    "train_set = pd.read_csv(DATA_PATH + \"self-calculated/raw-train-data.txt\", sep='\\s+', header=None)\n",
    "test_set = pd.read_csv(DATA_PATH + \"self-calculated/raw-test-data.txt\", sep='\\s+', header=None)\n",
    "\n",
    "train_set.columns=FEATURES\n",
    "test_set.columns=FEATURES\n",
    "'''\n",
    "complete_set = pd.read_csv(DATA_PATH + \"self-calculated/raw-data.txt\", sep='\\s+', header=None)\n",
    "complete_set.columns = FEATURES\n",
    "train_set, test_set = train_test_split(complete_set, test_size=0.3)"
   ]
  },
  {
   "cell_type": "code",
   "execution_count": 4,
   "metadata": {},
   "outputs": [],
   "source": [
    "# Creating model\n",
    "device = None\n",
    "\n",
    "if torch.cuda.is_available():\n",
    "    device = \"cuda\"\n",
    "elif torch.backends.mps.is_available():\n",
    "    device = \"mps\"\n",
    "else:\n",
    "    device = \"cpu\"\n",
    "\n",
    "class RawDataModel(nn.Module):\n",
    "    def __init__(self):\n",
    "        super().__init__()\n",
    "        self.sequential_module = nn.Sequential(\n",
    "            nn.Conv1d(in_channels=7, out_channels=256, kernel_size=1),\n",
    "            nn.ReLU(), \n",
    "            nn.MaxPool1d(1),\n",
    "            nn.BatchNorm1d(256),\n",
    "\n",
    "            nn.Conv1d(in_channels=256, out_channels=128, kernel_size=1),\n",
    "            nn.ReLU(), \n",
    "            nn.MaxPool1d(1),\n",
    "            nn.BatchNorm1d(128),\n",
    "\n",
    "            nn.Conv1d(in_channels=128, out_channels=64, kernel_size=1),\n",
    "            nn.ReLU(), \n",
    "            nn.MaxPool1d(1),\n",
    "            nn.BatchNorm1d(64),\n",
    "            \n",
    "            nn.Flatten(),\n",
    "\n",
    "            nn.Linear(64, 512),\n",
    "            nn.ReLU(),\n",
    "            nn.BatchNorm1d(512),\n",
    "            nn.Dropout(),\n",
    "\n",
    "            nn.Linear(512, 128),\n",
    "            nn.ReLU(),\n",
    "            nn.BatchNorm1d(128),\n",
    "            nn.Dropout(),\n",
    "\n",
    "            nn.Linear(128, 12),\n",
    "            nn.Softmax()\n",
    "        )\n",
    "\n",
    "    def forward(self, x):\n",
    "        return self.sequential_module(x)\n",
    "    \n",
    "model = RawDataModel().to(device)\n",
    "loss_function = nn.CrossEntropyLoss()\n",
    "optimizer = torch.optim.Adam(model.parameters(), lr=0.0001)"
   ]
  },
  {
   "cell_type": "code",
   "execution_count": 5,
   "metadata": {},
   "outputs": [],
   "source": [
    "# Training and testing function\n",
    "def train(dataloader, model, loss_fn, optimizer):\n",
    "    # Get batch num\n",
    "    num_batches = len(dataloader.dataset) / BATCH_SIZE\n",
    "    i = 0\n",
    "\n",
    "    # Set the model to train mode\n",
    "    model.train()\n",
    "\n",
    "    for batch, (X, y) in enumerate(dataloader):\n",
    "        X = X.unsqueeze(-1)\n",
    "        X, y = X.to(device), y.to(device)\n",
    "\n",
    "        # Compute prediction error\n",
    "        pred = model(X)\n",
    "        loss = loss_fn(pred, y)\n",
    "\n",
    "        # Backpropagation\n",
    "        loss.backward()\n",
    "        optimizer.step()\n",
    "        optimizer.zero_grad()\n",
    "\n",
    "        i += 1\n",
    "        if batch % 50 == 0:\n",
    "            print(f\"loss: {loss.item()}, batch: {i} out of {math.ceil(num_batches)}\")\n",
    "\n",
    "def test(dataloader, model, loss_fn):\n",
    "    size = len(dataloader.dataset)\n",
    "    num_batches = len(dataloader)\n",
    "    model.eval()\n",
    "    test_loss, correct = 0, 0\n",
    "    with torch.no_grad():\n",
    "        for X, y in dataloader:\n",
    "            X = X.unsqueeze(-1)\n",
    "            X, y = X.to(device), y.to(device)\n",
    "            pred = model(X)\n",
    "            test_loss += loss_fn(pred, y).item()\n",
    "            correct += (pred.argmax(1) == y).type(torch.float).sum().item()\n",
    "\n",
    "    test_loss /= num_batches\n",
    "    correct /= size\n",
    "    \n",
    "    return(f\"Test Error: \\n Accuracy: {(100*correct):>0.1f}%, Avg loss: {test_loss:>8f} \\n\")"
   ]
  },
  {
   "cell_type": "code",
   "execution_count": 6,
   "metadata": {},
   "outputs": [],
   "source": [
    "# Dataset preparation\n",
    "class HAPTDataset(Dataset):\n",
    "    def __init__(self, dataset, features, label):\n",
    "        \n",
    "        self.data = torch.tensor(dataset[features].values, dtype=torch.float32)[:SAMPLE_SIZE]\n",
    "        self.labels = torch.tensor(dataset[label].values, dtype=torch.float32)[:SAMPLE_SIZE]\n",
    "        '''\n",
    "        max_size = len(dataset) - (len(dataset) % 32)\n",
    "        print(max_size)\n",
    "        self.data = torch.tensor(dataset[features].values, dtype=torch.float32)[:max_size]\n",
    "        self.labels = torch.tensor(dataset[label].values, dtype=torch.float32)[:max_size]\n",
    "        '''\n",
    "\n",
    "    def __len__(self):\n",
    "        return len(self.data)\n",
    "\n",
    "    def __getitem__(self, idx):\n",
    "        return self.data[idx], self.labels[idx]\n",
    "    \n",
    "train_dataset = HAPTDataset(train_set, train_set.columns[:-1], 'activity')\n",
    "test_dataset = HAPTDataset(test_set, test_set.columns[:-1], 'activity')\n",
    "\n",
    "train_dataloader = DataLoader(train_dataset, batch_size=BATCH_SIZE, shuffle=True)\n",
    "test_dataloader = DataLoader(test_dataset, batch_size=BATCH_SIZE, shuffle=True)"
   ]
  },
  {
   "cell_type": "code",
   "execution_count": 7,
   "metadata": {},
   "outputs": [
    {
     "name": "stdout",
     "output_type": "stream",
     "text": [
      "Epoch 1\n",
      "-------------------------------\n"
     ]
    },
    {
     "name": "stderr",
     "output_type": "stream",
     "text": [
      "/opt/homebrew/lib/python3.12/site-packages/torch/nn/modules/module.py:1553: UserWarning: Implicit dimension choice for softmax has been deprecated. Change the call to include dim=X as an argument.\n",
      "  return self._call_impl(*args, **kwargs)\n"
     ]
    },
    {
     "name": "stdout",
     "output_type": "stream",
     "text": [
      "loss: 2.498753547668457, batch: 1 out of 150\n",
      "loss: 2.328601837158203, batch: 51 out of 150\n",
      "loss: 2.284313917160034, batch: 101 out of 150\n",
      "Epoch 2\n",
      "-------------------------------\n",
      "loss: 2.297517776489258, batch: 1 out of 150\n",
      "loss: 2.1460514068603516, batch: 51 out of 150\n",
      "loss: 2.1546425819396973, batch: 101 out of 150\n",
      "Epoch 3\n",
      "-------------------------------\n",
      "loss: 2.181820869445801, batch: 1 out of 150\n",
      "loss: 2.1765692234039307, batch: 51 out of 150\n",
      "loss: 2.1131389141082764, batch: 101 out of 150\n",
      "Epoch 4\n",
      "-------------------------------\n",
      "loss: 2.139979839324951, batch: 1 out of 150\n",
      "loss: 2.058046340942383, batch: 51 out of 150\n",
      "loss: 2.0329108238220215, batch: 101 out of 150\n",
      "Epoch 5\n",
      "-------------------------------\n",
      "loss: 1.8553218841552734, batch: 1 out of 150\n",
      "loss: 1.992434024810791, batch: 51 out of 150\n",
      "loss: 2.0293447971343994, batch: 101 out of 150\n",
      "Test Error: \n",
      " Accuracy: 58.7%, Avg loss: 2.004206 \n",
      "\n",
      "Done!\n"
     ]
    }
   ],
   "source": [
    "perf_timer = time.perf_counter()\n",
    "perf_acc = \"\"\n",
    "\n",
    "for t in range(EPOCHS):\n",
    "    print(f\"Epoch {t+1}\\n-------------------------------\")\n",
    "    train(train_dataloader, model, loss_function, optimizer)\n",
    "    perf_acc = test(test_dataloader, model, loss_function)\n",
    "    \n",
    "print(perf_acc)\n",
    "perf_timer = time.perf_counter() - perf_timer\n",
    "print(\"Done!\")"
   ]
  },
  {
   "cell_type": "code",
   "execution_count": 8,
   "metadata": {},
   "outputs": [],
   "source": [
    "model_name = \"cnn_12\"\n",
    "if False:\n",
    "    torch.save(model.state_dict(), MODELS_PATH + model_name + \".pth\")\n",
    "\n",
    "    with open(MODELS_PATH + model_name + \".txt\", \"w\") as f:\n",
    "        f.write(\"Epochs: {}\\n\".format(EPOCHS))\n",
    "        f.write(\"Batch Size: {}\\n\".format(BATCH_SIZE))\n",
    "        f.write(\"Sample Size: {}\\n\".format(SAMPLE_SIZE))\n",
    "        f.write(\"Feature Set: {}\\n\".format(FEATURES))\n",
    "        f.write(\"Model: {}\\n\".format(str(model)))\n",
    "        f.write(\"Loss Function: {}\\n\".format(\"Cross Entropy Loss\"))\n",
    "        f.write(\"Optimizer: {}\\n\\n\\n\\n\".format(str(optimizer)))\n",
    "        f.write(\"Results: {}\\n\".format(perf_acc))\n",
    "        f.write(\"Timer: {}s\\n\".format(round(perf_timer, 2)))"
   ]
  }
 ],
 "metadata": {
  "kernelspec": {
   "display_name": "Python 3",
   "language": "python",
   "name": "python3"
  },
  "language_info": {
   "codemirror_mode": {
    "name": "ipython",
    "version": 3
   },
   "file_extension": ".py",
   "mimetype": "text/x-python",
   "name": "python",
   "nbconvert_exporter": "python",
   "pygments_lexer": "ipython3",
   "version": "3.12.4"
  }
 },
 "nbformat": 4,
 "nbformat_minor": 2
}
