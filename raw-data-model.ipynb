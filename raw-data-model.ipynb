{
 "cells": [
  {
   "cell_type": "code",
   "execution_count": 42,
   "metadata": {},
   "outputs": [],
   "source": [
    "# Imports\n",
    "import pandas as pd\n",
    "import matplotlib.pyplot as plt\n",
    "import time \n",
    "\n",
    "import torch\n",
    "import mrmr\n",
    "from torch import nn\n",
    "from torch.utils.data import Dataset, DataLoader"
   ]
  },
  {
   "cell_type": "code",
   "execution_count": 43,
   "metadata": {},
   "outputs": [],
   "source": [
    "# Constants\n",
    "DATA_PATH = './data/'\n",
    "DATASET_PATH = DATA_PATH + 'smartphone+based+recognition+of+human+activities+and+postural+transitions/'\n",
    "MODELS_PATH = DATA_PATH + 'models/raw-models/'"
   ]
  },
  {
   "cell_type": "code",
   "execution_count": 44,
   "metadata": {},
   "outputs": [],
   "source": [
    "# Functions\n",
    "def get_raw_data_path(type, exp_id, user_id):\n",
    "    exp = exp_id if len(exp_id) == 2 else \"0\" + exp_id\n",
    "    user = user_id if len(user_id) == 2 else \"0\" + user_id\n",
    "    return DATASET_PATH + \"RawData/{}_exp{}_user{}.txt\".format(type, exp, user)"
   ]
  },
  {
   "cell_type": "code",
   "execution_count": 48,
   "metadata": {},
   "outputs": [
    {
     "name": "stdout",
     "output_type": "stream",
     "text": [
      "Loading Experiment ID: 10 User ID: 5, Activity: 5\n",
      "Loading Experiment ID: 1 User ID: 1, Activity: 5\n",
      "Loading Experiment ID: 1 User ID: 1, Activity: 7\n",
      "Loading Experiment ID: 1 User ID: 1, Activity: 4\n",
      "Loading Experiment ID: 1 User ID: 1, Activity: 8\n",
      "Loading Experiment ID: 1 User ID: 1, Activity: 5\n",
      "Loading Experiment ID: 1 User ID: 1, Activity: 11\n",
      "Loading Experiment ID: 1 User ID: 1, Activity: 6\n",
      "Loading Experiment ID: 1 User ID: 1, Activity: 10\n",
      "Loading Experiment ID: 1 User ID: 1, Activity: 4\n",
      "Loading Experiment ID: 1 User ID: 1, Activity: 9\n",
      "Loading Experiment ID: 1 User ID: 1, Activity: 6\n",
      "Loading Experiment ID: 1 User ID: 1, Activity: 12\n",
      "Loading Experiment ID: 1 User ID: 1, Activity: 1\n",
      "Loading Experiment ID: 1 User ID: 1, Activity: 1\n",
      "Loading Experiment ID: 1 User ID: 1, Activity: 1\n",
      "Loading Experiment ID: 1 User ID: 1, Activity: 1\n",
      "Loading Experiment ID: 1 User ID: 1, Activity: 3\n",
      "Loading Experiment ID: 1 User ID: 1, Activity: 2\n"
     ]
    },
    {
     "ename": "KeyboardInterrupt",
     "evalue": "",
     "output_type": "error",
     "traceback": [
      "\u001b[0;31m---------------------------------------------------------------------------\u001b[0m",
      "\u001b[0;31mKeyError\u001b[0m                                  Traceback (most recent call last)",
      "File \u001b[0;32m/opt/homebrew/lib/python3.12/site-packages/pandas/core/indexes/base.py:3805\u001b[0m, in \u001b[0;36mIndex.get_loc\u001b[0;34m(self, key)\u001b[0m\n\u001b[1;32m   3804\u001b[0m \u001b[38;5;28;01mtry\u001b[39;00m:\n\u001b[0;32m-> 3805\u001b[0m     \u001b[38;5;28;01mreturn\u001b[39;00m \u001b[38;5;28;43mself\u001b[39;49m\u001b[38;5;241;43m.\u001b[39;49m\u001b[43m_engine\u001b[49m\u001b[38;5;241;43m.\u001b[39;49m\u001b[43mget_loc\u001b[49m\u001b[43m(\u001b[49m\u001b[43mcasted_key\u001b[49m\u001b[43m)\u001b[49m\n\u001b[1;32m   3806\u001b[0m \u001b[38;5;28;01mexcept\u001b[39;00m \u001b[38;5;167;01mKeyError\u001b[39;00m \u001b[38;5;28;01mas\u001b[39;00m err:\n",
      "File \u001b[0;32mindex.pyx:167\u001b[0m, in \u001b[0;36mpandas._libs.index.IndexEngine.get_loc\u001b[0;34m()\u001b[0m\n",
      "File \u001b[0;32mindex.pyx:196\u001b[0m, in \u001b[0;36mpandas._libs.index.IndexEngine.get_loc\u001b[0;34m()\u001b[0m\n",
      "File \u001b[0;32mpandas/_libs/hashtable_class_helper.pxi:2606\u001b[0m, in \u001b[0;36mpandas._libs.hashtable.Int64HashTable.get_item\u001b[0;34m()\u001b[0m\n",
      "File \u001b[0;32mpandas/_libs/hashtable_class_helper.pxi:2630\u001b[0m, in \u001b[0;36mpandas._libs.hashtable.Int64HashTable.get_item\u001b[0;34m()\u001b[0m\n",
      "\u001b[0;31mKeyError\u001b[0m: 11471",
      "\nDuring handling of the above exception, another exception occurred:\n",
      "\u001b[0;31mKeyboardInterrupt\u001b[0m                         Traceback (most recent call last)",
      "Cell \u001b[0;32mIn[48], line 27\u001b[0m\n\u001b[1;32m     24\u001b[0m acc_data \u001b[38;5;241m=\u001b[39m raw_acc_file[x]\u001b[38;5;241m.\u001b[39mstrip(\u001b[38;5;124m\"\u001b[39m\u001b[38;5;130;01m\\n\u001b[39;00m\u001b[38;5;124m\"\u001b[39m)\u001b[38;5;241m.\u001b[39msplit(\u001b[38;5;124m\"\u001b[39m\u001b[38;5;124m \u001b[39m\u001b[38;5;124m\"\u001b[39m)\n\u001b[1;32m     25\u001b[0m gyro_data \u001b[38;5;241m=\u001b[39m raw_gyro_file[x]\u001b[38;5;241m.\u001b[39mstrip(\u001b[38;5;124m\"\u001b[39m\u001b[38;5;130;01m\\n\u001b[39;00m\u001b[38;5;124m\"\u001b[39m)\u001b[38;5;241m.\u001b[39msplit(\u001b[38;5;124m\"\u001b[39m\u001b[38;5;124m \u001b[39m\u001b[38;5;124m\"\u001b[39m)\n\u001b[0;32m---> 27\u001b[0m \u001b[43mdataset\u001b[49m\u001b[38;5;241;43m.\u001b[39;49m\u001b[43mloc\u001b[49m\u001b[43m[\u001b[49m\u001b[38;5;28;43mlen\u001b[39;49m\u001b[43m(\u001b[49m\u001b[43mdataset\u001b[49m\u001b[43m)\u001b[49m\u001b[43m]\u001b[49m \u001b[38;5;241m=\u001b[39m [\n\u001b[1;32m     28\u001b[0m     \u001b[38;5;28mfloat\u001b[39m(acc_data[\u001b[38;5;241m0\u001b[39m]),\n\u001b[1;32m     29\u001b[0m     \u001b[38;5;28mfloat\u001b[39m(acc_data[\u001b[38;5;241m1\u001b[39m]),\n\u001b[1;32m     30\u001b[0m     \u001b[38;5;28mfloat\u001b[39m(acc_data[\u001b[38;5;241m2\u001b[39m]),\n\u001b[1;32m     31\u001b[0m     \u001b[38;5;28mfloat\u001b[39m(gyro_data[\u001b[38;5;241m0\u001b[39m]),\n\u001b[1;32m     32\u001b[0m     \u001b[38;5;28mfloat\u001b[39m(gyro_data[\u001b[38;5;241m1\u001b[39m]),\n\u001b[1;32m     33\u001b[0m     \u001b[38;5;28mfloat\u001b[39m(gyro_data[\u001b[38;5;241m2\u001b[39m]),\n\u001b[1;32m     34\u001b[0m     \u001b[38;5;28mint\u001b[39m(processed_label[\u001b[38;5;241m1\u001b[39m]),\n\u001b[1;32m     35\u001b[0m     \u001b[38;5;28mint\u001b[39m(processed_label[\u001b[38;5;241m2\u001b[39m])\n\u001b[1;32m     36\u001b[0m ]\n",
      "File \u001b[0;32m/opt/homebrew/lib/python3.12/site-packages/pandas/core/indexing.py:907\u001b[0m, in \u001b[0;36m_LocationIndexer.__setitem__\u001b[0;34m(self, key, value)\u001b[0m\n\u001b[1;32m    905\u001b[0m     maybe_callable \u001b[38;5;241m=\u001b[39m com\u001b[38;5;241m.\u001b[39mapply_if_callable(key, \u001b[38;5;28mself\u001b[39m\u001b[38;5;241m.\u001b[39mobj)\n\u001b[1;32m    906\u001b[0m     key \u001b[38;5;241m=\u001b[39m \u001b[38;5;28mself\u001b[39m\u001b[38;5;241m.\u001b[39m_check_deprecated_callable_usage(key, maybe_callable)\n\u001b[0;32m--> 907\u001b[0m indexer \u001b[38;5;241m=\u001b[39m \u001b[38;5;28;43mself\u001b[39;49m\u001b[38;5;241;43m.\u001b[39;49m\u001b[43m_get_setitem_indexer\u001b[49m\u001b[43m(\u001b[49m\u001b[43mkey\u001b[49m\u001b[43m)\u001b[49m\n\u001b[1;32m    908\u001b[0m \u001b[38;5;28mself\u001b[39m\u001b[38;5;241m.\u001b[39m_has_valid_setitem_indexer(key)\n\u001b[1;32m    910\u001b[0m iloc \u001b[38;5;241m=\u001b[39m \u001b[38;5;28mself\u001b[39m \u001b[38;5;28;01mif\u001b[39;00m \u001b[38;5;28mself\u001b[39m\u001b[38;5;241m.\u001b[39mname \u001b[38;5;241m==\u001b[39m \u001b[38;5;124m\"\u001b[39m\u001b[38;5;124miloc\u001b[39m\u001b[38;5;124m\"\u001b[39m \u001b[38;5;28;01melse\u001b[39;00m \u001b[38;5;28mself\u001b[39m\u001b[38;5;241m.\u001b[39mobj\u001b[38;5;241m.\u001b[39miloc\n",
      "File \u001b[0;32m/opt/homebrew/lib/python3.12/site-packages/pandas/core/indexing.py:780\u001b[0m, in \u001b[0;36m_LocationIndexer._get_setitem_indexer\u001b[0;34m(self, key)\u001b[0m\n\u001b[1;32m    776\u001b[0m \u001b[38;5;28;01mif\u001b[39;00m \u001b[38;5;28misinstance\u001b[39m(key, \u001b[38;5;28mrange\u001b[39m):\n\u001b[1;32m    777\u001b[0m     \u001b[38;5;66;03m# GH#45479 test_loc_setitem_range_key\u001b[39;00m\n\u001b[1;32m    778\u001b[0m     key \u001b[38;5;241m=\u001b[39m \u001b[38;5;28mlist\u001b[39m(key)\n\u001b[0;32m--> 780\u001b[0m \u001b[38;5;28;01mreturn\u001b[39;00m \u001b[38;5;28;43mself\u001b[39;49m\u001b[38;5;241;43m.\u001b[39;49m\u001b[43m_convert_to_indexer\u001b[49m\u001b[43m(\u001b[49m\u001b[43mkey\u001b[49m\u001b[43m,\u001b[49m\u001b[43m \u001b[49m\u001b[43maxis\u001b[49m\u001b[38;5;241;43m=\u001b[39;49m\u001b[38;5;241;43m0\u001b[39;49m\u001b[43m)\u001b[49m\n",
      "File \u001b[0;32m/opt/homebrew/lib/python3.12/site-packages/pandas/core/indexing.py:1493\u001b[0m, in \u001b[0;36m_LocIndexer._convert_to_indexer\u001b[0;34m(self, key, axis)\u001b[0m\n\u001b[1;32m   1486\u001b[0m \u001b[38;5;28;01mif\u001b[39;00m is_scalar(key) \u001b[38;5;129;01mor\u001b[39;00m (\n\u001b[1;32m   1487\u001b[0m     \u001b[38;5;28misinstance\u001b[39m(labels, MultiIndex) \u001b[38;5;129;01mand\u001b[39;00m is_hashable(key) \u001b[38;5;129;01mand\u001b[39;00m \u001b[38;5;129;01mnot\u001b[39;00m contains_slice\n\u001b[1;32m   1488\u001b[0m ):\n\u001b[1;32m   1489\u001b[0m     \u001b[38;5;66;03m# Otherwise get_loc will raise InvalidIndexError\u001b[39;00m\n\u001b[1;32m   1490\u001b[0m \n\u001b[1;32m   1491\u001b[0m     \u001b[38;5;66;03m# if we are a label return me\u001b[39;00m\n\u001b[1;32m   1492\u001b[0m     \u001b[38;5;28;01mtry\u001b[39;00m:\n\u001b[0;32m-> 1493\u001b[0m         \u001b[38;5;28;01mreturn\u001b[39;00m \u001b[43mlabels\u001b[49m\u001b[38;5;241;43m.\u001b[39;49m\u001b[43mget_loc\u001b[49m\u001b[43m(\u001b[49m\u001b[43mkey\u001b[49m\u001b[43m)\u001b[49m\n\u001b[1;32m   1494\u001b[0m     \u001b[38;5;28;01mexcept\u001b[39;00m \u001b[38;5;167;01mLookupError\u001b[39;00m:\n\u001b[1;32m   1495\u001b[0m         \u001b[38;5;28;01mif\u001b[39;00m \u001b[38;5;28misinstance\u001b[39m(key, \u001b[38;5;28mtuple\u001b[39m) \u001b[38;5;129;01mand\u001b[39;00m \u001b[38;5;28misinstance\u001b[39m(labels, MultiIndex):\n",
      "File \u001b[0;32m/opt/homebrew/lib/python3.12/site-packages/pandas/core/indexes/base.py:3808\u001b[0m, in \u001b[0;36mIndex.get_loc\u001b[0;34m(self, key)\u001b[0m\n\u001b[1;32m   3805\u001b[0m     \u001b[38;5;28;01mreturn\u001b[39;00m \u001b[38;5;28mself\u001b[39m\u001b[38;5;241m.\u001b[39m_engine\u001b[38;5;241m.\u001b[39mget_loc(casted_key)\n\u001b[1;32m   3806\u001b[0m \u001b[38;5;28;01mexcept\u001b[39;00m \u001b[38;5;167;01mKeyError\u001b[39;00m \u001b[38;5;28;01mas\u001b[39;00m err:\n\u001b[1;32m   3807\u001b[0m     \u001b[38;5;28;01mif\u001b[39;00m \u001b[38;5;28misinstance\u001b[39m(casted_key, \u001b[38;5;28mslice\u001b[39m) \u001b[38;5;129;01mor\u001b[39;00m (\n\u001b[0;32m-> 3808\u001b[0m         \u001b[38;5;28;43misinstance\u001b[39;49m\u001b[43m(\u001b[49m\u001b[43mcasted_key\u001b[49m\u001b[43m,\u001b[49m\u001b[43m \u001b[49m\u001b[43mabc\u001b[49m\u001b[38;5;241;43m.\u001b[39;49m\u001b[43mIterable\u001b[49m\u001b[43m)\u001b[49m\n\u001b[1;32m   3809\u001b[0m         \u001b[38;5;129;01mand\u001b[39;00m \u001b[38;5;28many\u001b[39m(\u001b[38;5;28misinstance\u001b[39m(x, \u001b[38;5;28mslice\u001b[39m) \u001b[38;5;28;01mfor\u001b[39;00m x \u001b[38;5;129;01min\u001b[39;00m casted_key)\n\u001b[1;32m   3810\u001b[0m     ):\n\u001b[1;32m   3811\u001b[0m         \u001b[38;5;28;01mraise\u001b[39;00m InvalidIndexError(key)\n\u001b[1;32m   3812\u001b[0m     \u001b[38;5;28;01mraise\u001b[39;00m \u001b[38;5;167;01mKeyError\u001b[39;00m(key) \u001b[38;5;28;01mfrom\u001b[39;00m \u001b[38;5;21;01merr\u001b[39;00m\n",
      "File \u001b[0;32m<frozen abc>:117\u001b[0m, in \u001b[0;36m__instancecheck__\u001b[0;34m(cls, instance)\u001b[0m\n",
      "\u001b[0;31mKeyboardInterrupt\u001b[0m: "
     ]
    }
   ],
   "source": [
    "# Data loading\n",
    "raw_data_labels = open(DATASET_PATH + \"RawData/labels.txt\", 'r').readlines()\n",
    "dataset = pd.DataFrame(columns=['accX', 'accY', 'accZ', 'gyroX', 'gyroY', 'gyroZ', \"subject\", \"activity\"])\n",
    "\n",
    "raw_path = None\n",
    "raw_acc_file = None\n",
    "raw_gyro_file = None\n",
    "\n",
    "raw_target_file = open(DATA_PATH + \"self-calculated/raw-data/raw-data.txt\", \"w\")\n",
    "\n",
    "for label in raw_data_labels:\n",
    "    processed_label = label.strip(\"\\n\").split(\" \")\n",
    "    processed_label[3] = int(processed_label[3]) - 1\n",
    "    processed_label[4] = int(processed_label[4])\n",
    "    print(\"Loading Experiment ID: {} User ID: {}, Activity: {}\".format(processed_label[0], processed_label[1], processed_label[2]))\n",
    "\n",
    "    if get_raw_data_path('acc', processed_label[0], processed_label[1]) != raw_path:\n",
    "        raw_path = get_raw_data_path('gyro', processed_label[0], processed_label[1])\n",
    "        raw_gyro_file = open(raw_path, 'r').readlines()\n",
    "        raw_path = get_raw_data_path('acc', processed_label[0], processed_label[1])\n",
    "        raw_acc_file = open(raw_path, 'r').readlines()\n",
    "\n",
    "    for x in range(processed_label[3], processed_label[4]):\n",
    "        acc_data = raw_acc_file[x].strip(\"\\n\").split(\" \")\n",
    "        gyro_data = raw_gyro_file[x].strip(\"\\n\").split(\" \")\n",
    "\n",
    "        dataset.loc[len(dataset)] = [\n",
    "            float(acc_data[0]),\n",
    "            float(acc_data[1]),\n",
    "            float(acc_data[2]),\n",
    "            float(gyro_data[0]),\n",
    "            float(gyro_data[1]),\n",
    "            float(gyro_data[2]),\n",
    "            int(processed_label[1]),\n",
    "            int(processed_label[2])\n",
    "        ]\n"
   ]
  }
 ],
 "metadata": {
  "kernelspec": {
   "display_name": "Python 3",
   "language": "python",
   "name": "python3"
  },
  "language_info": {
   "codemirror_mode": {
    "name": "ipython",
    "version": 3
   },
   "file_extension": ".py",
   "mimetype": "text/x-python",
   "name": "python",
   "nbconvert_exporter": "python",
   "pygments_lexer": "ipython3",
   "version": "3.12.4"
  }
 },
 "nbformat": 4,
 "nbformat_minor": 2
}
