{
 "cells": [
  {
   "cell_type": "code",
   "execution_count": 39,
   "metadata": {},
   "outputs": [],
   "source": [
    "# Imports\n",
    "import time\n",
    "import numpy as np\n",
    "import pandas as pd\n",
    "from scipy.stats import skew, kurtosis\n",
    "from scipy.signal import butter, filtfilt\n",
    "from sklearn.model_selection import train_test_split, GridSearchCV\n",
    "from sklearn.svm import SVC\n",
    "from sklearn.preprocessing import StandardScaler\n",
    "from sklearn.metrics import accuracy_score, confusion_matrix\n",
    "import matplotlib.pyplot as plt\n",
    "from scipy.signal import butter, filtfilt, welch\n",
    "import glob"
   ]
  },
  {
   "cell_type": "code",
   "execution_count": 40,
   "metadata": {},
   "outputs": [],
   "source": [
    "# Global variables\n",
    "\n",
    "# 2D Array, 137 features per row\n",
    "features = np.empty((0, 137))\n",
    "# 1D array, 1 number per row\n",
    "answers = np.array([])\n",
    "# List of every file name in RawData\n",
    "file_names = glob.glob(\"RawData\" + '/*.txt')"
   ]
  },
  {
   "cell_type": "code",
   "execution_count": 41,
   "metadata": {},
   "outputs": [],
   "source": [
    "def extractWindow():\n",
    "    pass"
   ]
  },
  {
   "cell_type": "code",
   "execution_count": 42,
   "metadata": {},
   "outputs": [],
   "source": [
    "# For handling raw data\n",
    "def extractAllFeatures(label):\n",
    "    splitted = label.split()\n",
    "    experimentNum, activityNum, start, end = int(splitted[0]), int(splitted[2]), int(splitted[3]), int(splitted[4])\n",
    "\n",
    "    acc_file_name = file_names[experimentNum-1]\n",
    "    gyro_file_name = file_names[experimentNum-1+61]\n",
    "    print(f\"{acc_file_name} with {gyro_file_name}\")\n"
   ]
  },
  {
   "cell_type": "code",
   "execution_count": null,
   "metadata": {},
   "outputs": [],
   "source": [
    "# Main function\n",
    "def main():\n",
    "    # Grab the labels.txt file telling you what each data section means\n",
    "    labels_file = open('labels.txt') \n",
    "    labels_list = labels_file.readlines()\n",
    "\n",
    "    # For each section: \n",
    "        # i. Load that section's respective data\n",
    "        # ii. For each window in that section:\n",
    "            # a. Apply noise filters on the window\n",
    "            # b. Compute features from the window\n",
    "            # c. Store those feature values in an array\n",
    "        # iii. Store all the features and their respective data in a file\n",
    "    for label in labels_list:\n",
    "        extractAllFeatures(label)\n",
    "\n",
    "if __name__ == \"__main__\":\n",
    "    main()"
   ]
  }
 ],
 "metadata": {
  "kernelspec": {
   "display_name": "Python 3",
   "language": "python",
   "name": "python3"
  },
  "language_info": {
   "codemirror_mode": {
    "name": "ipython",
    "version": 3
   },
   "file_extension": ".py",
   "mimetype": "text/x-python",
   "name": "python",
   "nbconvert_exporter": "python",
   "pygments_lexer": "ipython3",
   "version": "3.11.9"
  }
 },
 "nbformat": 4,
 "nbformat_minor": 2
}
