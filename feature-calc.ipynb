{
 "cells": [
  {
   "cell_type": "code",
   "execution_count": 33,
   "metadata": {},
   "outputs": [],
   "source": [
    "# Constants\n",
    "DATA_PATH = './data/'\n",
    "DATASET_PATH = DATA_PATH + 'smartphone+based+recognition+of+human+activities+and+postural+transitions/'"
   ]
  },
  {
   "cell_type": "code",
   "execution_count": 34,
   "metadata": {},
   "outputs": [],
   "source": [
    "# For loading the labels file\n",
    "class SectionData():\n",
    "    def __init__(self, str):\n",
    "        new_data= str.split(' ')\n",
    "        self.exp_num = new_data[0]\n",
    "        self.user_num = new_data[1]\n",
    "        self.activity = new_data[2]\n",
    "        self.start_point = new_data[3]\n",
    "        self.end_point = new_data[4]\n",
    "    \n",
    "    def __str__(self):\n",
    "        return str(\"(\" + self.exp_num + \", \" + self.user_num + \", \" + self.activity + \", \" + self.start_point + \", \" + self.end_point.strip(\"\\n\") + \")\")\n",
    "\n",
    "class LabelsFile():\n",
    "    def __init__(self):\n",
    "        self.data = open(DATASET_PATH + \"RawData/labels.txt\", 'r').readlines()\n",
    "        self.i = 0\n",
    "    \n",
    "    def __iter__(self):\n",
    "        self.i = 0\n",
    "        return self\n",
    "    \n",
    "    def __next__(self):\n",
    "        if self.i < len(self.data):\n",
    "            current = self.data[self.i]\n",
    "            self.i += 1\n",
    "            return SectionData(current)\n",
    "        raise StopIteration "
   ]
  },
  {
   "cell_type": "code",
   "execution_count": 35,
   "metadata": {},
   "outputs": [],
   "source": [
    "# For handling raw data\n",
    "\n",
    "def load(data):\n",
    "    pass"
   ]
  },
  {
   "cell_type": "code",
   "execution_count": 36,
   "metadata": {},
   "outputs": [],
   "source": [
    "# Main function\n",
    "def main():\n",
    "    # 1. Grab the labels.txt file telling you what each data section means (x)\n",
    "    # 2. For each section: (x)\n",
    "        # i. Load that section's respective data\n",
    "        # ii. For each window in that section:\n",
    "            # a. Apply noise filters on the window\n",
    "            # b. Compute features from the window\n",
    "            # c. Store those feature values in an array\n",
    "        # iii. Store all the features and their respective data in a file\n",
    "    labels_file = LabelsFile()\n",
    "    for section in labels_file:\n",
    "        raw_data = load(section)\n",
    "        pass\n",
    "    pass\n",
    "\n",
    "main()"
   ]
  }
 ],
 "metadata": {
  "kernelspec": {
   "display_name": "Python 3",
   "language": "python",
   "name": "python3"
  },
  "language_info": {
   "codemirror_mode": {
    "name": "ipython",
    "version": 3
   },
   "file_extension": ".py",
   "mimetype": "text/x-python",
   "name": "python",
   "nbconvert_exporter": "python",
   "pygments_lexer": "ipython3",
   "version": "3.12.4"
  }
 },
 "nbformat": 4,
 "nbformat_minor": 2
}
